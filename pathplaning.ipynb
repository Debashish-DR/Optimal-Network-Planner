{
 "cells": [
  {
   "cell_type": "code",
   "execution_count": 1,
   "id": "20333502-881f-43b9-a4ea-cff55f0f5906",
   "metadata": {},
   "outputs": [],
   "source": [
    "import os\n",
    "import pandas as pd\n",
    "import numpy as np\n",
    "\n",
    "def find_primary_secondary(co_matrix):\n",
    "    primary_sum = 0\n",
    "    primary_node = 0\n",
    "    secondary_nodes = []\n",
    "\n",
    "    for i in range(20):\n",
    "        sum_correlation = np.sum(co_matrix[i])\n",
    "\n",
    "        if sum_correlation > primary_sum:\n",
    "            primary_sum = sum_correlation\n",
    "            primary_node = i\n",
    "\n",
    "    for i in range(20):\n",
    "        if co_matrix[primary_node][i] >= 0.3 and primary_node != i:\n",
    "            secondary_nodes.append(i)\n",
    "\n",
    "    return primary_node, secondary_nodes\n",
    "\n",
    "def delete_secondary_primary(co_matrix, primary_node, secondary_nodes):\n",
    "    for i in range(20):\n",
    "        co_matrix[primary_node][i] = 0\n",
    "        co_matrix[i][primary_node] = 0\n",
    "        for ele in secondary_nodes:\n",
    "            co_matrix[ele][i] = 0\n",
    "            co_matrix[i][ele] = 0\n",
    "    return co_matrix"
   ]
  },
  {
   "cell_type": "code",
   "execution_count": 2,
   "id": "369636c9-e0e9-460b-af1e-58bd9a6569c0",
   "metadata": {},
   "outputs": [
    {
     "ename": "SyntaxError",
     "evalue": "f-string: invalid syntax. Perhaps you forgot a comma? (2632954540.py, line 8)",
     "output_type": "error",
     "traceback": [
      "\u001b[1;36m  Cell \u001b[1;32mIn[2], line 8\u001b[1;36m\u001b[0m\n\u001b[1;33m    data = pd.read_csv(f\"D:\\jupyter_PY\\subcluster100\\cluster_{k.0}data.csv\")\u001b[0m\n\u001b[1;37m    ^\u001b[0m\n\u001b[1;31mSyntaxError\u001b[0m\u001b[1;31m:\u001b[0m f-string: invalid syntax. Perhaps you forgot a comma?\n"
     ]
    }
   ],
   "source": [
    "# Initialize a list to store the results\n",
    "results = []\n",
    "\n",
    "for k in range(100):\n",
    "    if k == 50:\n",
    "        continue\n",
    "\n",
    "    data = pd.read_csv(f\"D:\\jupyter_PY\\subcluster100\\cluster_{k.0}data.csv\")  \n",
    "    correlation_matrix = np.zeros((20, 20))\n",
    "\n",
    "    for i in range(20):\n",
    "        for j in range(20):\n",
    "            cluster_i_values = data[data['Cluster_Label'] == i]['Serving RSSI_4G'].values\n",
    "            cluster_j_values = data[data['Cluster_Label'] == j]['Serving RSSI_4G'].values\n",
    "\n",
    "            min_len = min(len(cluster_i_values), len(cluster_j_values))\n",
    "            if min_len > 0:\n",
    "                cluster_i_values = cluster_i_values[:min_len]\n",
    "                cluster_j_values = cluster_j_values[:min_len]\n",
    "\n",
    "                correlation_matrix[i, j] = np.corrcoef(cluster_i_values, cluster_j_values)[0, 1]\n",
    "            else:\n",
    "                correlation_matrix[i, j] = 0\n",
    "\n",
    "    correlation_matrix = np.nan_to_num(correlation_matrix, nan=0.0)\n",
    "\n",
    "    print(f\"\\nFor matrix {k}:\\n\")\n",
    "    c = 0\n",
    "    while c < 2:\n",
    "        p_node, s_node = find_primary_secondary(correlation_matrix)\n",
    "        if any(item == 0 for item in s_node):\n",
    "            c += 1\n",
    "        if p_node == 0:\n",
    "            c += 1\n",
    "        if c == 2:\n",
    "            break\n",
    "        correlation_matrix = delete_secondary_primary(correlation_matrix, p_node, s_node)\n",
    "        print('Primary Node:', p_node)\n",
    "        if s_node:\n",
    "            print('Secondary Node:', s_node)\n",
    "\n",
    "        # Calculate the median of 'Longitude', 'Latitude', 'Serving RSSI_4G' for the primary node\n",
    "        primary_data = data[data['Cluster_Label'] == p_node]\n",
    "        median_longitude = primary_data['Longitude'].median()\n",
    "        median_latitude = primary_data['Latitude'].median()\n",
    "        median_rssi = primary_data['Serving RSSI_4G'].median()\n",
    "\n",
    "        # Append the results to the list\n",
    "        results.append({\n",
    "            'slNo': len(results) + 1,\n",
    "            'Cluster': k,\n",
    "            'Primary Node': p_node,\n",
    "            'Median Longitude': median_longitude,\n",
    "            'Median Latitude': median_latitude,\n",
    "            'Median RSSI': median_rssi\n",
    "        })\n"
   ]
  },
  {
   "cell_type": "code",
   "execution_count": null,
   "id": "7466966e-1c98-4a22-983e-1dda3326a90f",
   "metadata": {},
   "outputs": [],
   "source": []
  }
 ],
 "metadata": {
  "kernelspec": {
   "display_name": "Python 3 (ipykernel)",
   "language": "python",
   "name": "python3"
  },
  "language_info": {
   "codemirror_mode": {
    "name": "ipython",
    "version": 3
   },
   "file_extension": ".py",
   "mimetype": "text/x-python",
   "name": "python",
   "nbconvert_exporter": "python",
   "pygments_lexer": "ipython3",
   "version": "3.10.7"
  }
 },
 "nbformat": 4,
 "nbformat_minor": 5
}
