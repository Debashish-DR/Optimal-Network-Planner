{
 "cells": [
  {
   "cell_type": "code",
   "execution_count": 2,
   "id": "96cd387a-688e-4246-8c6d-779cafb04b59",
   "metadata": {},
   "outputs": [
    {
     "name": "stderr",
     "output_type": "stream",
     "text": [
      "C:\\Users\\91732\\AppData\\Local\\Temp\\ipykernel_22204\\2563241042.py:4: DtypeWarning: Columns (1,2) have mixed types. Specify dtype option on import or set low_memory=False.\n",
      "  data=pd.read_csv(\"D:/jupyter_PY/Supplementary_Material.csv\");\n",
      "C:\\Users\\91732\\AppData\\Local\\Temp\\ipykernel_22204\\2563241042.py:7: SettingWithCopyWarning: \n",
      "A value is trying to be set on a copy of a slice from a DataFrame\n",
      "\n",
      "See the caveats in the documentation: https://pandas.pydata.org/pandas-docs/stable/user_guide/indexing.html#returning-a-view-versus-a-copy\n",
      "  features.replace('\\t', pd.NA, inplace=True)\n",
      "C:\\Users\\91732\\AppData\\Local\\Temp\\ipykernel_22204\\2563241042.py:8: SettingWithCopyWarning: \n",
      "A value is trying to be set on a copy of a slice from a DataFrame\n",
      "\n",
      "See the caveats in the documentation: https://pandas.pydata.org/pandas-docs/stable/user_guide/indexing.html#returning-a-view-versus-a-copy\n",
      "  features.replace('', pd.NA, inplace=True)\n"
     ]
    }
   ],
   "source": [
    "from sklearn.cluster import AgglomerativeClustering\n",
    "import pandas as pd\n",
    "\n",
    "data=pd.read_csv(\"D:/jupyter_PY/Supplementary_Material.csv\");\n",
    "features = data[['Longitude','Latitude', 'Serving RSSI_4G']]\n",
    "\n",
    "features.replace('\\t', pd.NA, inplace=True)\n",
    "features.replace('', pd.NA, inplace=True)\n",
    "features = features.apply(pd.to_numeric, errors='coerce')"
   ]
  },
  {
   "cell_type": "code",
   "execution_count": 3,
   "id": "0753179b-5a85-47c1-bdda-cdc92a52ac37",
   "metadata": {},
   "outputs": [
    {
     "name": "stdout",
     "output_type": "stream",
     "text": [
      "       Longitude  Latitude\n",
      "0       3.502389  6.437201\n",
      "1       3.502389  6.437201\n",
      "2       3.502389  6.437201\n",
      "3       3.502389  6.437201\n",
      "4       3.502389  6.437201\n",
      "...          ...       ...\n",
      "42493   3.415840  6.436213\n",
      "42494   3.415840  6.436213\n",
      "42495   3.415840  6.436213\n",
      "42496   3.415840  6.436213\n",
      "42497   3.415965  6.436205\n",
      "\n",
      "[42498 rows x 2 columns]\n"
     ]
    }
   ],
   "source": [
    "cdata = features[['Longitude','Latitude']]\n",
    "print(cdata)"
   ]
  },
  {
   "cell_type": "code",
   "execution_count": 5,
   "id": "39e3f61b-f51f-4340-9066-04064e70e0a5",
   "metadata": {},
   "outputs": [],
   "source": [
    "import pandas as pd\n",
    "from sklearn.cluster import AgglomerativeClustering\n",
    "from sklearn.metrics import pairwise_distances\n",
    "\n",
    "cdata_clean = cdata.dropna()\n",
    "agg_clustering = AgglomerativeClustering(\n",
    "    n_clusters=100,\n",
    "    metric='manhattan',\n",
    "    linkage='complete'\n",
    ")\n",
    "labels = agg_clustering.fit_predict(cdata_clean)"
   ]
  },
  {
   "cell_type": "code",
   "execution_count": 7,
   "id": "2736c868-409b-4d08-bc25-1983d5d89392",
   "metadata": {},
   "outputs": [
    {
     "name": "stdout",
     "output_type": "stream",
     "text": [
      "       Longitude  Latitude  Serving RSSI_4G  cluster\n",
      "0       3.502389  6.437201           -39.56     23.0\n",
      "1       3.502389  6.437201           -39.88     23.0\n",
      "2       3.502389  6.437201           -38.38     23.0\n",
      "3       3.502389  6.437201           -36.63     23.0\n",
      "4       3.502389  6.437201           -37.81     23.0\n",
      "...          ...       ...              ...      ...\n",
      "42493   3.415840  6.436213              NaN     58.0\n",
      "42494   3.415840  6.436213              NaN     58.0\n",
      "42495   3.415840  6.436213              NaN     58.0\n",
      "42496   3.415840  6.436213              NaN     58.0\n",
      "42497   3.415965  6.436205           -58.88     58.0\n",
      "\n",
      "[42498 rows x 4 columns]\n"
     ]
    },
    {
     "name": "stderr",
     "output_type": "stream",
     "text": [
      "C:\\Users\\91732\\AppData\\Local\\Temp\\ipykernel_22204\\1623597343.py:1: SettingWithCopyWarning: \n",
      "A value is trying to be set on a copy of a slice from a DataFrame.\n",
      "Try using .loc[row_indexer,col_indexer] = value instead\n",
      "\n",
      "See the caveats in the documentation: https://pandas.pydata.org/pandas-docs/stable/user_guide/indexing.html#returning-a-view-versus-a-copy\n",
      "  cdata_clean['cluster'] = labels\n"
     ]
    }
   ],
   "source": [
    "cdata_clean['cluster'] = labels\n",
    "\n",
    "features['cluster'] = pd.Series(labels, index=cdata_clean.index)\n",
    "print(features)"
   ]
  },
  {
   "cell_type": "code",
   "execution_count": 8,
   "id": "92eb42df-478c-4419-a3e2-a73578fb5d16",
   "metadata": {},
   "outputs": [
    {
     "name": "stdout",
     "output_type": "stream",
     "text": [
      "       Longitude  Latitude  Serving RSSI_4G  cluster\n",
      "0       3.502389  6.437201           -39.56     23.0\n",
      "1       3.502389  6.437201           -39.88     23.0\n",
      "2       3.502389  6.437201           -38.38     23.0\n",
      "3       3.502389  6.437201           -36.63     23.0\n",
      "4       3.502389  6.437201           -37.81     23.0\n",
      "...          ...       ...              ...      ...\n",
      "42493   3.415840  6.436213              NaN     58.0\n",
      "42494   3.415840  6.436213              NaN     58.0\n",
      "42495   3.415840  6.436213              NaN     58.0\n",
      "42496   3.415840  6.436213              NaN     58.0\n",
      "42497   3.415965  6.436205           -58.88     58.0\n",
      "\n",
      "[42498 rows x 4 columns]\n"
     ]
    },
    {
     "name": "stderr",
     "output_type": "stream",
     "text": [
      "C:\\Users\\91732\\AppData\\Local\\Temp\\ipykernel_22204\\1623597343.py:1: SettingWithCopyWarning: \n",
      "A value is trying to be set on a copy of a slice from a DataFrame.\n",
      "Try using .loc[row_indexer,col_indexer] = value instead\n",
      "\n",
      "See the caveats in the documentation: https://pandas.pydata.org/pandas-docs/stable/user_guide/indexing.html#returning-a-view-versus-a-copy\n",
      "  cdata_clean['cluster'] = labels\n"
     ]
    }
   ],
   "source": [
    "cdata_clean['cluster'] = labels\n",
    "\n",
    "features['cluster'] = pd.Series(labels, index=cdata_clean.index)\n",
    "print(features)"
   ]
  },
  {
   "cell_type": "code",
   "execution_count": 9,
   "id": "9a8b4576-9ba4-40c8-b98d-702d7d28e8c6",
   "metadata": {},
   "outputs": [],
   "source": [
    "features = features.dropna()\n",
    "\n",
    "file_path = \"D:\\jupyter_PY\\Manhattan_aggoclustered_data100.csv\"\n",
    "features.to_csv(file_path, index=False)"
   ]
  }
 ],
 "metadata": {
  "kernelspec": {
   "display_name": "Python 3 (ipykernel)",
   "language": "python",
   "name": "python3"
  },
  "language_info": {
   "codemirror_mode": {
    "name": "ipython",
    "version": 3
   },
   "file_extension": ".py",
   "mimetype": "text/x-python",
   "name": "python",
   "nbconvert_exporter": "python",
   "pygments_lexer": "ipython3",
   "version": "3.10.7"
  }
 },
 "nbformat": 4,
 "nbformat_minor": 5
}
