{
 "cells": [
  {
   "cell_type": "code",
   "execution_count": 3,
   "id": "e40e1bcb-498b-4f6e-8adb-751867eeec4d",
   "metadata": {},
   "outputs": [],
   "source": [
    "\n",
    "\n",
    "import matplotlib.pyplot as plt\n",
    "import pandas as pd\n",
    "import seaborn as sns\n",
    "import numpy as np\n"
   ]
  },
  {
   "cell_type": "code",
   "execution_count": 4,
   "id": "ee13f8b2-7200-4832-b510-ed8ad8375732",
   "metadata": {},
   "outputs": [
    {
     "data": {
      "text/plain": [
       "array([[ 1.        ,  1.47368421,  1.94736842,  2.42105263,  2.89473684],\n",
       "       [ 3.36842105,  3.84210526,  4.31578947,  4.78947368,  5.26315789],\n",
       "       [ 5.73684211,  6.21052632,  6.68421053,  7.15789474,  7.63157895],\n",
       "       [ 8.10526316,  8.57894737,  9.05263158,  9.52631579, 10.        ]])"
      ]
     },
     "execution_count": 4,
     "metadata": {},
     "output_type": "execute_result"
    }
   ],
   "source": [
    "var = np.linspace(1,10,20).reshape(4,5) # np.linspace(1,10,20)->to set elements 1-10 20 eles, reshape()->to give the shape to the array \n",
    "var # to print var"
   ]
  },
  {
   "cell_type": "code",
   "execution_count": 5,
   "id": "3bf6981e-131e-42d9-ac37-09359961f6b6",
   "metadata": {},
   "outputs": [
    {
     "data": {
      "image/png": "[encoded data removed]",
      "text/plain": [
       "<Figure size 640x480 with 1 Axes>"
      ]
     },
     "metadata": {},
     "output_type": "display_data"
    }
   ],
   "source": [
    "y = {\"fontsize\":20 , \"color\" : \"r\"} #to change font size and color\n",
    "v = sns.heatmap(var,vmin=0,vmax=10 , cmap = 'PuOr',annot = True,annot_kws = y , linewidth=4,linecolor=\"b\",cbar=False,xticklabels=False,yticklabels=False)\n",
    "plt.show() # it hides the name of the heatmap\n",
    "v.set(xlabel = \"python\",ylabel=\"ITER\") # to set x axis label as well as y axis\n",
    "sns.set(font_scale = 5) # to set font size of labels\n",
    "#var->print,vmin->to set min value,cmap->to change color,\n",
    "# annot->to show values in figure,annot_kws->to work on y,linewidth -> to set space between the outlines,cbar->to show or hide the colourBar,\n",
    "#xticklabels->to hide or show xlabel as well as y "
   ]
  },
  {
   "cell_type": "code",
   "execution_count": 12,
   "id": "7146f2e6-10c7-48e9-93e8-025c6d66d365",
   "metadata": {},
   "outputs": [
    {
     "data": {
      "text/html": [
       "<div>\n",
       "<style scoped>\n",
       "    .dataframe tbody tr th:only-of-type {\n",
       "        vertical-align: middle;\n",
       "    }\n",
       "\n",
       "    .dataframe tbody tr th {\n",
       "        vertical-align: top;\n",
       "    }\n",
       "\n",
       "    .dataframe thead th {\n",
       "        text-align: right;\n",
       "    }\n",
       "</style>\n",
       "<table border=\"1\" class=\"dataframe\">\n",
       "  <thead>\n",
       "    <tr style=\"text-align: right;\">\n",
       "      <th></th>\n",
       "      <th>subidr</th>\n",
       "      <th>num1</th>\n",
       "      <th>num2</th>\n",
       "      <th>num3</th>\n",
       "    </tr>\n",
       "  </thead>\n",
       "  <tbody>\n",
       "    <tr>\n",
       "      <th>0</th>\n",
       "      <td>1</td>\n",
       "      <td>2</td>\n",
       "      <td>4.0</td>\n",
       "      <td>7</td>\n",
       "    </tr>\n",
       "    <tr>\n",
       "      <th>1</th>\n",
       "      <td>2</td>\n",
       "      <td>3</td>\n",
       "      <td>4.0</td>\n",
       "      <td>5</td>\n",
       "    </tr>\n",
       "    <tr>\n",
       "      <th>2</th>\n",
       "      <td>3</td>\n",
       "      <td>3</td>\n",
       "      <td>5.0</td>\n",
       "      <td>6</td>\n",
       "    </tr>\n",
       "    <tr>\n",
       "      <th>3</th>\n",
       "      <td>4</td>\n",
       "      <td>5</td>\n",
       "      <td>7.0</td>\n",
       "      <td>5</td>\n",
       "    </tr>\n",
       "    <tr>\n",
       "      <th>4</th>\n",
       "      <td>5</td>\n",
       "      <td>4</td>\n",
       "      <td>5.0</td>\n",
       "      <td>8</td>\n",
       "    </tr>\n",
       "    <tr>\n",
       "      <th>5</th>\n",
       "      <td>6</td>\n",
       "      <td>5</td>\n",
       "      <td>5.0</td>\n",
       "      <td>6</td>\n",
       "    </tr>\n",
       "    <tr>\n",
       "      <th>6</th>\n",
       "      <td>7</td>\n",
       "      <td>5</td>\n",
       "      <td>4.5</td>\n",
       "      <td>6</td>\n",
       "    </tr>\n",
       "    <tr>\n",
       "      <th>7</th>\n",
       "      <td>8</td>\n",
       "      <td>5</td>\n",
       "      <td>7.0</td>\n",
       "      <td>8</td>\n",
       "    </tr>\n",
       "    <tr>\n",
       "      <th>8</th>\n",
       "      <td>9</td>\n",
       "      <td>2</td>\n",
       "      <td>3.0</td>\n",
       "      <td>7</td>\n",
       "    </tr>\n",
       "    <tr>\n",
       "      <th>9</th>\n",
       "      <td>10</td>\n",
       "      <td>6</td>\n",
       "      <td>5.0</td>\n",
       "      <td>6</td>\n",
       "    </tr>\n",
       "  </tbody>\n",
       "</table>\n",
       "</div>"
      ],
      "text/plain": [
       "   subidr  num1  num2  num3\n",
       "0       1     2   4.0     7\n",
       "1       2     3   4.0     5\n",
       "2       3     3   5.0     6\n",
       "3       4     5   7.0     5\n",
       "4       5     4   5.0     8\n",
       "5       6     5   5.0     6\n",
       "6       7     5   4.5     6\n",
       "7       8     5   7.0     8\n",
       "8       9     2   3.0     7\n",
       "9      10     6   5.0     6"
      ]
     },
     "execution_count": 12,
     "metadata": {},
     "output_type": "execute_result"
    }
   ],
   "source": [
    "data = sns.load_dataset(\"anagrams\") # to load datasets from github , \"anagrams\" -> it is a csv file from github\n",
    "x = data.drop(columns = [\"attnr\"] , axis=1).head(10) # to drop or del attnr column because it contains string values and we dont want that,head(10)->to only print 1st 10 rows from head\n",
    "x"
   ]
  },
  {
   "cell_type": "code",
   "execution_count": 13,
   "id": "467bd9f8-51b4-4a7b-8618-3e2cb14f0358",
   "metadata": {},
   "outputs": [
    {
     "data": {
      "text/plain": [
       "<Axes: >"
      ]
     },
     "execution_count": 13,
     "metadata": {},
     "output_type": "execute_result"
    },
    {
     "data": {
      "image/png": "[encoded data removed]",
      "text/plain": [
       "<Figure size 640x480 with 2 Axes>"
      ]
     },
     "metadata": {},
     "output_type": "display_data"
    }
   ],
   "source": [
    "sns.heatmap(x) # to print heatmap"
   ]
  },
  {
   "cell_type": "code",
   "execution_count": 27,
   "id": "0deb5433-1f36-4b24-a1c7-fd05ae3ac97b",
   "metadata": {},
   "outputs": [
    {
     "data": {
      "text/plain": [
       "array([[ 1.,  2.,  3.,  4.,  5.],\n",
       "       [ 6.,  7.,  8.,  9., 10.]])"
      ]
     },
     "execution_count": 27,
     "metadata": {},
     "output_type": "execute_result"
    }
   ],
   "source": [
    "var1 = np.linspace(1,10,10).reshape(2,5)\n",
    "var1"
   ]
  },
  {
   "cell_type": "code",
   "execution_count": 28,
   "id": "be55e2ec-0b02-41eb-9441-553e2d24ab3d",
   "metadata": {},
   "outputs": [
    {
     "data": {
      "text/plain": [
       "<Axes: >"
      ]
     },
     "execution_count": 28,
     "metadata": {},
     "output_type": "execute_result"
    },
    {
     "data": {
      "image/png": "[encoded data removed]",
      "text/plain": [
       "<Figure size 640x480 with 2 Axes>"
      ]
     },
     "metadata": {},
     "output_type": "display_data"
    }
   ],
   "source": [
    "sns.heatmap(var1,vmin=0,vmax=10 , cmap = 'PuOr',annot = True)"
   ]
  },
  {
   "cell_type": "code",
   "execution_count": 29,
   "id": "2af227e5-eec5-4730-8d38-cc0ebd7002e5",
   "metadata": {},
   "outputs": [],
   "source": [
    "ar = np.array([[\"a0\",\"a1\",\"a2\",\"a3\",\"a4\",],\n",
    "               [\"b0\",\"b1\",\"b2\",\"b3\",\"b4\",]]) # to set names to the colour boxes instead of their values we have to create an array and it is \n"
   ]
  },
  {
   "cell_type": "code",
   "execution_count": 1,
   "id": "5cdcfd7d-d6f7-4ad4-9694-dfc473802714",
   "metadata": {},
   "outputs": [
    {
     "ename": "NameError",
     "evalue": "name 'sns' is not defined",
     "output_type": "error",
     "traceback": [
      "\u001b[1;31m---------------------------------------------------------------------------\u001b[0m",
      "\u001b[1;31mNameError\u001b[0m                                 Traceback (most recent call last)",
      "Cell \u001b[1;32mIn[1], line 1\u001b[0m\n\u001b[1;32m----> 1\u001b[0m \u001b[43msns\u001b[49m\u001b[38;5;241m.\u001b[39mheatmap(var1,vmin\u001b[38;5;241m=\u001b[39m\u001b[38;5;241m0\u001b[39m,vmax\u001b[38;5;241m=\u001b[39m\u001b[38;5;241m10\u001b[39m , cmap \u001b[38;5;241m=\u001b[39m \u001b[38;5;124m'\u001b[39m\u001b[38;5;124mPuOr\u001b[39m\u001b[38;5;124m'\u001b[39m,annot \u001b[38;5;241m=\u001b[39m ar,fmt\u001b[38;5;241m=\u001b[39m\u001b[38;5;124m'\u001b[39m\u001b[38;5;124ms\u001b[39m\u001b[38;5;124m'\u001b[39m) \u001b[38;5;66;03m# annot = ar -> to access ar , fmt='s' -> bcoz the ar contains string values\u001b[39;00m\n",
      "\u001b[1;31mNameError\u001b[0m: name 'sns' is not defined"
     ]
    }
   ],
   "source": [
    "sns.heatmap(var1,vmin=0,vmax=10 , cmap = 'PuOr',annot = ar,fmt='s') # annot = ar -> to access ar , fmt='s' -> bcoz the ar contains string values"
   ]
  },
  {
   "cell_type": "code",
   "execution_count": null,
   "id": "80add065-f0a4-4424-aa6c-17561528332c",
   "metadata": {},
   "outputs": [],
   "source": []
  }
 ],
 "metadata": {
  "kernelspec": {
   "display_name": "Python 3 (ipykernel)",
   "language": "python",
   "name": "python3"
  },
  "language_info": {
   "codemirror_mode": {
    "name": "ipython",
    "version": 3
   },
   "file_extension": ".py",
   "mimetype": "text/x-python",
   "name": "python",
   "nbconvert_exporter": "python",
   "pygments_lexer": "ipython3",
   "version": "3.10.7"
  }
 },
 "nbformat": 4,
 "nbformat_minor": 5
}
